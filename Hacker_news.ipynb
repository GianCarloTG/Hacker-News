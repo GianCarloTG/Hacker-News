{
 "cells": [
  {
   "cell_type": "markdown",
   "metadata": {},
   "source": [
    "# Exploring Hackers News posts"
   ]
  },
  {
   "cell_type": "markdown",
   "metadata": {},
   "source": [
    "This project is about to understand which type of posts are more interesting in the website Hackers News (https://news.ycombinator.com/). The website has 2 types of posts \"Ask HN\"(a post to ask for recomendation in the comunity) and \"Show HN\"(post to show a project developed to the comunity). Also, we will find which day and hour would be more convinient to make a post."
   ]
  },
  {
   "cell_type": "code",
   "execution_count": 1,
   "metadata": {},
   "outputs": [
    {
     "data": {
      "text/html": [
       "<div>\n",
       "<style scoped>\n",
       "    .dataframe tbody tr th:only-of-type {\n",
       "        vertical-align: middle;\n",
       "    }\n",
       "\n",
       "    .dataframe tbody tr th {\n",
       "        vertical-align: top;\n",
       "    }\n",
       "\n",
       "    .dataframe thead th {\n",
       "        text-align: right;\n",
       "    }\n",
       "</style>\n",
       "<table border=\"1\" class=\"dataframe\">\n",
       "  <thead>\n",
       "    <tr style=\"text-align: right;\">\n",
       "      <th></th>\n",
       "      <th>id</th>\n",
       "      <th>title</th>\n",
       "      <th>url</th>\n",
       "      <th>num_points</th>\n",
       "      <th>num_comments</th>\n",
       "      <th>author</th>\n",
       "      <th>created_at</th>\n",
       "    </tr>\n",
       "  </thead>\n",
       "  <tbody>\n",
       "    <tr>\n",
       "      <td>0</td>\n",
       "      <td>12579008</td>\n",
       "      <td>You have two days to comment if you want stem ...</td>\n",
       "      <td>http://www.regulations.gov/document?D=FDA-2015...</td>\n",
       "      <td>1</td>\n",
       "      <td>0</td>\n",
       "      <td>altstar</td>\n",
       "      <td>9/26/2016 3:26</td>\n",
       "    </tr>\n",
       "    <tr>\n",
       "      <td>1</td>\n",
       "      <td>12579005</td>\n",
       "      <td>SQLAR  the SQLite Archiver</td>\n",
       "      <td>https://www.sqlite.org/sqlar/doc/trunk/README.md</td>\n",
       "      <td>1</td>\n",
       "      <td>0</td>\n",
       "      <td>blacksqr</td>\n",
       "      <td>9/26/2016 3:24</td>\n",
       "    </tr>\n",
       "    <tr>\n",
       "      <td>2</td>\n",
       "      <td>12578997</td>\n",
       "      <td>What if we just printed a flatscreen televisio...</td>\n",
       "      <td>https://medium.com/vanmoof/our-secrets-out-f21...</td>\n",
       "      <td>1</td>\n",
       "      <td>0</td>\n",
       "      <td>pavel_lishin</td>\n",
       "      <td>9/26/2016 3:19</td>\n",
       "    </tr>\n",
       "    <tr>\n",
       "      <td>3</td>\n",
       "      <td>12578989</td>\n",
       "      <td>algorithmic music</td>\n",
       "      <td>http://cacm.acm.org/magazines/2011/7/109891-al...</td>\n",
       "      <td>1</td>\n",
       "      <td>0</td>\n",
       "      <td>poindontcare</td>\n",
       "      <td>9/26/2016 3:16</td>\n",
       "    </tr>\n",
       "    <tr>\n",
       "      <td>4</td>\n",
       "      <td>12578979</td>\n",
       "      <td>How the Data Vault Enables the Next-Gen Data W...</td>\n",
       "      <td>https://www.talend.com/blog/2016/05/12/talend-...</td>\n",
       "      <td>1</td>\n",
       "      <td>0</td>\n",
       "      <td>markgainor1</td>\n",
       "      <td>9/26/2016 3:14</td>\n",
       "    </tr>\n",
       "    <tr>\n",
       "      <td>5</td>\n",
       "      <td>12578975</td>\n",
       "      <td>Saving the Hassle of Shopping</td>\n",
       "      <td>https://blog.menswr.com/2016/09/07/whats-new-w...</td>\n",
       "      <td>1</td>\n",
       "      <td>1</td>\n",
       "      <td>bdoux</td>\n",
       "      <td>9/26/2016 3:13</td>\n",
       "    </tr>\n",
       "  </tbody>\n",
       "</table>\n",
       "</div>"
      ],
      "text/plain": [
       "         id                                              title  \\\n",
       "0  12579008  You have two days to comment if you want stem ...   \n",
       "1  12579005                         SQLAR  the SQLite Archiver   \n",
       "2  12578997  What if we just printed a flatscreen televisio...   \n",
       "3  12578989                                  algorithmic music   \n",
       "4  12578979  How the Data Vault Enables the Next-Gen Data W...   \n",
       "5  12578975                      Saving the Hassle of Shopping   \n",
       "\n",
       "                                                 url  num_points  \\\n",
       "0  http://www.regulations.gov/document?D=FDA-2015...           1   \n",
       "1   https://www.sqlite.org/sqlar/doc/trunk/README.md           1   \n",
       "2  https://medium.com/vanmoof/our-secrets-out-f21...           1   \n",
       "3  http://cacm.acm.org/magazines/2011/7/109891-al...           1   \n",
       "4  https://www.talend.com/blog/2016/05/12/talend-...           1   \n",
       "5  https://blog.menswr.com/2016/09/07/whats-new-w...           1   \n",
       "\n",
       "   num_comments        author      created_at  \n",
       "0             0       altstar  9/26/2016 3:26  \n",
       "1             0      blacksqr  9/26/2016 3:24  \n",
       "2             0  pavel_lishin  9/26/2016 3:19  \n",
       "3             0  poindontcare  9/26/2016 3:16  \n",
       "4             0   markgainor1  9/26/2016 3:14  \n",
       "5             1         bdoux  9/26/2016 3:13  "
      ]
     },
     "execution_count": 1,
     "metadata": {},
     "output_type": "execute_result"
    }
   ],
   "source": [
    "# First we have to take a look of our data\n",
    "import pandas as pd\n",
    "file = pd.read_csv('HN_posts_year_to_Sep_26_2016.csv')\n",
    "file.head(6)"
   ]
  },
  {
   "cell_type": "code",
   "execution_count": 2,
   "metadata": {},
   "outputs": [
    {
     "name": "stdout",
     "output_type": "stream",
     "text": [
      "head of the csv:  ['id', 'title', 'url', 'num_points', 'num_comments', 'author', 'created_at']\n",
      "\n",
      "\n",
      "number of rows  293119\n"
     ]
    }
   ],
   "source": [
    "# To make the data easier to work, we will convert the csv file into a list\n",
    "# The dataset has an incompatible characters that the csv class can't read\n",
    "# to fix that we encode the file with the key 'utf8'\n",
    "\n",
    "import csv\n",
    "opened_file = open('HN_posts_year_to_Sep_26_2016.csv', encoding=\"utf8\")\n",
    "read_file = csv.reader(opened_file)\n",
    "hn = list(read_file)\n",
    "head = hn[0]\n",
    "hn = hn[1:]\n",
    "\n",
    "print('head of the csv: ', head)\n",
    "print('\\n')\n",
    "print('number of rows ', len(hn))"
   ]
  },
  {
   "cell_type": "code",
   "execution_count": 3,
   "metadata": {},
   "outputs": [
    {
     "name": "stdout",
     "output_type": "stream",
     "text": [
      "ask 9139\n",
      "show 10158\n",
      "other 282961\n"
     ]
    }
   ],
   "source": [
    "# We olny will take care of the 'Ask' and 'Show' posts\n",
    "\n",
    "ask_posts = []\n",
    "show_posts =[]\n",
    "other_posts = []\n",
    "\n",
    "for row in hn:\n",
    "    title = row[1]\n",
    "    title = title.lower()\n",
    "    \n",
    "    if title.startswith('ask hn'):\n",
    "        ask_posts.append(row)\n",
    "    if title.startswith('show hn'):\n",
    "        show_posts.append(row)\n",
    "    else:\n",
    "        other_posts.append(row)\n",
    "        \n",
    "#Let's look how many post of each type we have\n",
    "print('ask', len(ask_posts))\n",
    "print('show', len(show_posts))\n",
    "print('other', len(other_posts))"
   ]
  },
  {
   "cell_type": "code",
   "execution_count": 4,
   "metadata": {},
   "outputs": [
    {
     "name": "stdout",
     "output_type": "stream",
     "text": [
      "['12578522', 'Ask HN: How do you pass on your work when you die?', '', '6', '3', 'PascLeRasc', '9/26/2016 1:17']\n"
     ]
    }
   ],
   "source": [
    "# This is how a ask post is saved\n",
    "print(ask_posts[1])"
   ]
  },
  {
   "cell_type": "code",
   "execution_count": 29,
   "metadata": {},
   "outputs": [
    {
     "name": "stdout",
     "output_type": "stream",
     "text": [
      "There are:  10.39 comments per ask post\n",
      "There are:  4.89 comments per show post\n"
     ]
    }
   ],
   "source": [
    "# How many comments has a'ask posts' \n",
    "\n",
    "total_ask_comments = 0\n",
    "for i in ask_posts:\n",
    "    comments = int(i[4])\n",
    "    total_ask_comments += comments\n",
    "    \n",
    "avg_ask_comments = round(total_ask_comments/len(ask_posts),2)\n",
    "print('There are: ',avg_ask_comments,'comments per ask post')\n",
    "\n",
    "# How many comments has a 'show post' \n",
    "\n",
    "total_show_comments = 0\n",
    "for i in show_posts:\n",
    "    comments = int(i[4])\n",
    "    total_show_comments += comments\n",
    "    \n",
    "avg_show_comments = round(total_show_comments/len(show_posts),2)\n",
    "print('There are: ',avg_show_comments,'comments per show post')\n",
    "\n"
   ]
  },
  {
   "cell_type": "markdown",
   "metadata": {},
   "source": [
    "As we can see, asks post recieve more comments than show posts. "
   ]
  },
  {
   "cell_type": "code",
   "execution_count": 6,
   "metadata": {},
   "outputs": [
    {
     "name": "stdout",
     "output_type": "stream",
     "text": [
      "['9/26/2016 1:17', 3]\n"
     ]
    }
   ],
   "source": [
    "# Now we will see if posting in a certain hour during the day will affect the visibility \n",
    "# First we have to create a list isolate the data we want \"days, hours and comments\"\n",
    "\n",
    "import datetime as dt\n",
    "result_list = []\n",
    "\n",
    "for i in ask_posts:\n",
    "    created_at = i[6]\n",
    "    num_comments = int(i[4])\n",
    "    result_list.append([created_at,num_comments])\n",
    "\n",
    "print(result_list[1])"
   ]
  },
  {
   "cell_type": "code",
   "execution_count": 12,
   "metadata": {},
   "outputs": [
    {
     "name": "stdout",
     "output_type": "stream",
     "text": [
      "Ask posts by hour:  {'02': 269, '01': 282, '22': 383, '21': 518, '19': 552, '17': 587, '15': 646, '14': 513, '13': 444, '11': 312, '10': 282, '09': 222, '07': 226, '03': 271, '23': 343, '20': 510, '16': 579, '08': 257, '00': 301, '18': 614, '12': 342, '04': 243, '06': 234, '05': 209}\n",
      "\n",
      "\n",
      "Comments in ask posts by hour:  {'02': 2996, '01': 2089, '22': 3372, '21': 4500, '19': 3954, '17': 5547, '15': 18525, '14': 4972, '13': 7245, '11': 2797, '10': 3013, '09': 1477, '07': 1585, '03': 2154, '23': 2297, '20': 4462, '16': 4466, '08': 2362, '00': 2277, '18': 4877, '12': 4234, '04': 2360, '06': 1587, '05': 1838}\n"
     ]
    }
   ],
   "source": [
    "# Now we isolate each one to create 2 frequency tables.\n",
    "# The first tell us the number of asks posts by hour\n",
    "# The second tell us the number of comments in all ask posts by hour\n",
    "counts_by_hour = {}\n",
    "comments_by_hour = {}\n",
    "# This is a template to read the time\n",
    "template = \"%m/%d/%Y %H:%M\"\n",
    "\n",
    "for i in result_list:\n",
    "    date = i[0]\n",
    "    comment = int(i[1])\n",
    "    day_hour_minutes = dt.datetime.strptime(date, template)\n",
    "    hour = day_hour_minutes.strftime('%H')\n",
    "    if hour not in counts_by_hour:\n",
    "        counts_by_hour[hour] = 1\n",
    "        comments_by_hour[hour] = comment\n",
    "    else:\n",
    "        counts_by_hour[hour] += 1\n",
    "        comments_by_hour[hour] += comment\n",
    "        \n",
    "print('Ask posts by hour: ',counts_by_hour)\n",
    "print('\\n')\n",
    "print('Comments in ask posts by hour: ',comments_by_hour)"
   ]
  },
  {
   "cell_type": "code",
   "execution_count": 30,
   "metadata": {},
   "outputs": [
    {
     "name": "stdout",
     "output_type": "stream",
     "text": [
      "[['02', 11.14], ['01', 7.41], ['22', 8.8], ['21', 8.69], ['19', 7.16], ['17', 9.45], ['15', 28.68], ['14', 9.69], ['13', 16.32], ['11', 8.96], ['10', 10.68], ['09', 6.65], ['07', 7.01], ['03', 7.95], ['23', 6.7], ['20', 8.75], ['16', 7.71], ['08', 9.19], ['00', 7.56], ['18', 7.94], ['12', 12.38], ['04', 9.71], ['06', 6.78], ['05', 8.79]]\n"
     ]
    }
   ],
   "source": [
    "# Now we cross both dictionaries to find the average number of posts by hour\n",
    "# We are putting it in a list of list to be sorted later\n",
    "\n",
    "avg_by_hour = []\n",
    "for hour in comments_by_hour:\n",
    "    avg_by_hour.append([hour, round(comments_by_hour[hour]/counts_by_hour[hour],2) ])\n",
    "    \n",
    "print(avg_by_hour)"
   ]
  },
  {
   "cell_type": "code",
   "execution_count": 35,
   "metadata": {},
   "outputs": [
    {
     "name": "stdout",
     "output_type": "stream",
     "text": [
      "[[28.68, '15'], [16.32, '13'], [12.38, '12'], [11.14, '02'], [10.68, '10'], [9.71, '04'], [9.69, '14'], [9.45, '17'], [9.19, '08'], [8.96, '11'], [8.8, '22'], [8.79, '05'], [8.75, '20'], [8.69, '21'], [7.95, '03'], [7.94, '18'], [7.71, '16'], [7.56, '00'], [7.41, '01'], [7.16, '19'], [7.01, '07'], [6.78, '06'], [6.7, '23'], [6.65, '09']]\n"
     ]
    }
   ],
   "source": [
    "# As we can't sort the keys, we will sort it by number of comments\n",
    "# To do that we swap the columns of our list of lists\n",
    "\n",
    "swap_avg_by_hour = []\n",
    "for i in avg_by_hour:\n",
    "    swap_avg_by_hour.append([i[1],i[0]])\n",
    "\n",
    "#Now we can sort, in the top we will se the biggers\n",
    "    \n",
    "sorted_swap = sorted(swap_avg_by_hour, reverse = True)\n",
    "print(sorted_swap)"
   ]
  },
  {
   "cell_type": "code",
   "execution_count": 50,
   "metadata": {},
   "outputs": [
    {
     "name": "stdout",
     "output_type": "stream",
     "text": [
      "Top 5 Hours for Ask Posts Comments\n",
      "At the 15:00 hours of the day are 28.68 average comments per post\n",
      "At the 13:00 hours of the day are 16.32 average comments per post\n",
      "At the 12:00 hours of the day are 12.38 average comments per post\n",
      "At the 02:00 hours of the day are 11.14 average comments per post\n",
      "At the 10:00 hours of the day are 10.68 average comments per post\n"
     ]
    }
   ],
   "source": [
    "# It's time to see the top rank\n",
    "\n",
    "print(\"Top 5 Hours for Ask Posts Comments: \")\n",
    "for i, j in sorted_swap[:5]:\n",
    "    print('At the {} hours of the day are {} average comments per post'.format(dt.datetime.strptime(j,'%H').strftime('%H:%M'), i))"
   ]
  },
  {
   "cell_type": "markdown",
   "metadata": {},
   "source": [
    "### Conclusion\n",
    "If we want to make our post more visible it would bebetter do it at 15:00 hours, because people\n",
    "will tend to make more comments at that hour. Also we can pick the other hours, like 13:00 or 12:00, but it's better to do it at the top rank."
   ]
  }
 ],
 "metadata": {
  "kernelspec": {
   "display_name": "Python 3",
   "language": "python",
   "name": "python3"
  },
  "language_info": {
   "codemirror_mode": {
    "name": "ipython",
    "version": 3
   },
   "file_extension": ".py",
   "mimetype": "text/x-python",
   "name": "python",
   "nbconvert_exporter": "python",
   "pygments_lexer": "ipython3",
   "version": "3.7.4"
  }
 },
 "nbformat": 4,
 "nbformat_minor": 4
}
